{
 "cells": [
  {
   "cell_type": "markdown",
   "metadata": {},
   "source": [
    "# Realation operators\n",
    "\n",
    "|Operator| meaning|\n",
    "|---|---|\n",
    "|==|Equal to|\n",
    "|!=|No equal to|\n",
    "|<| Less than|\n",
    "|>|Greater than|\n",
    "|<=|less thna or equal to|\n",
    "\n"
   ]
  },
  {
   "cell_type": "markdown",
   "metadata": {},
   "source": [
    "# Boolean \n",
    "## and\n"
   ]
  },
  {
   "cell_type": "code",
   "execution_count": 2,
   "metadata": {},
   "outputs": [
    {
     "name": "stdout",
     "output_type": "stream",
     "text": [
      "\n",
      "avalable -1\n",
      "else - 0\n",
      "\n",
      "Gattah!👍\n"
     ]
    }
   ],
   "source": [
    "print(\"\"\"\n",
    "avalable -1\n",
    "else - 0\n",
    "\"\"\")\n",
    "for x in range(1, 11):\n",
    "  water_bottle_1 = input(\"1st bottle available? (1 or 0)\")\n",
    "  water_bottle_size= input(\"2st bottle available? (1 or 0)\")\n",
    "\n",
    "  if (water_bottle_1 == \"aaa\"  and water_bottle_size == 750) or\\\n",
    "    (water_bottle_1 == \"aaa\"  and water_bottle_size == 500):\n",
    "    print(\"Gattah!👍\")\n",
    "\n",
    "  \n",
    "    print(\"gatattatatata\")"
   ]
  },
  {
   "cell_type": "code",
   "execution_count": 4,
   "metadata": {},
   "outputs": [
    {
     "name": "stdout",
     "output_type": "stream",
     "text": [
      "0\n",
      "1\n"
     ]
    }
   ],
   "source": [
    "for i in range(2):\n",
    "  print(i)"
   ]
  },
  {
   "cell_type": "code",
   "execution_count": 5,
   "metadata": {},
   "outputs": [
    {
     "name": "stdout",
     "output_type": "stream",
     "text": [
      "2\n",
      "3\n",
      "4\n"
     ]
    }
   ],
   "source": [
    "for i in range(2, 5):\n",
    "  print(i)"
   ]
  },
  {
   "cell_type": "code",
   "execution_count": 6,
   "metadata": {},
   "outputs": [
    {
     "name": "stdout",
     "output_type": "stream",
     "text": [
      "2\n",
      "5\n",
      "8\n",
      "11\n",
      "14\n",
      "17\n",
      "20\n",
      "23\n",
      "26\n",
      "29\n"
     ]
    }
   ],
   "source": [
    "for i in range(2, 30, 3):\n",
    "  print(i)"
   ]
  },
  {
   "cell_type": "code",
   "execution_count": null,
   "metadata": {},
   "outputs": [],
   "source": []
  }
 ],
 "metadata": {
  "kernelspec": {
   "display_name": "Python 3",
   "language": "python",
   "name": "python3"
  },
  "language_info": {
   "codemirror_mode": {
    "name": "ipython",
    "version": 3
   },
   "file_extension": ".py",
   "mimetype": "text/x-python",
   "name": "python",
   "nbconvert_exporter": "python",
   "pygments_lexer": "ipython3",
   "version": "3.9.6"
  }
 },
 "nbformat": 4,
 "nbformat_minor": 2
}
