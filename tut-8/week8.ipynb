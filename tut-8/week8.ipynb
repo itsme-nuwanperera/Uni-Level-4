{
 "cells": [
  {
   "cell_type": "markdown",
   "metadata": {},
   "source": [
    "# Computer Seminar - User Defined Function \n",
    "\n",
    "## Part 1 - Review of Functions (with/without parameters)\n",
    "\n",
    "Make sure that you understand the chnages shown in each of the following examples. type them in and run them to check your undertanding.\n",
    "\n",
    "**a)** Function that prints a greeting: "
   ]
  },
  {
   "cell_type": "code",
   "execution_count": 1,
   "metadata": {},
   "outputs": [
    {
     "name": "stdout",
     "output_type": "stream",
     "text": [
      "Hello!\n"
     ]
    }
   ],
   "source": [
    "def greet_user():\n",
    "  \"\"\"Display a simple greeting.\"\"\"\n",
    "  print(\"Hello!\")\n",
    "\n",
    "greet_user() "
   ]
  },
  {
   "cell_type": "markdown",
   "metadata": {},
   "source": [
    "**b)** Passing information to a function"
   ]
  },
  {
   "cell_type": "code",
   "execution_count": 3,
   "metadata": {},
   "outputs": [
    {
     "name": "stdout",
     "output_type": "stream",
     "text": [
      "Hello, Nuwan!\n"
     ]
    }
   ],
   "source": [
    "def greet_user(user_name):\n",
    "  \"\"\"Display a simple greeting\"\"\"\n",
    "  print(\"Hello, \" + user_name + \"!\")\n",
    "\n",
    "user = input(\"Enter your name: \")\n",
    "greet_user(user)"
   ]
  },
  {
   "cell_type": "markdown",
   "metadata": {},
   "source": [
    "**c)** Multiple parameters"
   ]
  },
  {
   "cell_type": "code",
   "execution_count": 4,
   "metadata": {},
   "outputs": [
    {
     "name": "stdout",
     "output_type": "stream",
     "text": [
      "My dog's name is Fido.\n",
      "My cat's name is Felix.\n",
      "My dog's name is Rex.\n",
      "My hamster's name is Bob.\n"
     ]
    }
   ],
   "source": [
    "def describe_pet(animal_type, pet_name):\n",
    "  \"\"\"Display information about a pet.\"\"\"\n",
    "  print(\"My \" + animal_type + \"'s name is \" + pet_name + \".\")\n",
    "\n",
    "describe_pet(\"dog\", \"Fido\")\n",
    "describe_pet(\"cat\", \"Felix\")\n",
    "describe_pet(\"dog\", \"Rex\")\n",
    "describe_pet(\"hamster\", \"Bob\")"
   ]
  },
  {
   "cell_type": "markdown",
   "metadata": {},
   "source": [
    "**d)** Times table - define a function\n",
    "\n",
    "Write a function called *timestable* that will print the 7 times table. Write it so that you can use *timestable(7)* to run it. Check that *timestable(9)* produce the 9 times table. **Hint:** use `range(1,13)` in the function to produce a timetable. E.g., if *timestable(7)* was enterd the output would be:\n",
    "\n",
    "`7, 14, 21, 28, 35, 42, 49, 56, 63, 70, 77, 84` (either on one line or on separate lines)\n"
   ]
  },
  {
   "cell_type": "code",
   "execution_count": 7,
   "metadata": {},
   "outputs": [
    {
     "name": "stdout",
     "output_type": "stream",
     "text": [
      "7 x 1 = 7\n",
      "7 x 2 = 14\n",
      "7 x 3 = 21\n",
      "7 x 4 = 28\n",
      "7 x 5 = 35\n",
      "7 x 6 = 42\n",
      "7 x 7 = 49\n",
      "7 x 8 = 56\n",
      "7 x 9 = 63\n",
      "7 x 10 = 70\n",
      "7 x 11 = 77\n",
      "7 x 12 = 84\n",
      "\n",
      "9 x 1 = 9\n",
      "9 x 2 = 18\n",
      "9 x 3 = 27\n",
      "9 x 4 = 36\n",
      "9 x 5 = 45\n",
      "9 x 6 = 54\n",
      "9 x 7 = 63\n",
      "9 x 8 = 72\n",
      "9 x 9 = 81\n",
      "9 x 10 = 90\n",
      "9 x 11 = 99\n",
      "9 x 12 = 108\n",
      "\n"
     ]
    }
   ],
   "source": [
    "def timestable(num):\n",
    "  for i in range(1, 13):\n",
    "    print(f\"{num} x {i} = {num * i}\")\n",
    "  print()\n",
    "\n",
    "timestable(7)\n",
    "timestable(9)"
   ]
  },
  {
   "cell_type": "markdown",
   "metadata": {},
   "source": [
    "## Part 2 - Returning ata from \n",
    "\n",
    "**a) Grade Classification - using return**\n",
    "Here is a sample function that could be used to convert a amark to a grade classification. Type it in and use the test data shown below to check it wrks as expected."
   ]
  },
  {
   "cell_type": "code",
   "execution_count": 9,
   "metadata": {},
   "outputs": [
    {
     "name": "stdout",
     "output_type": "stream",
     "text": [
      "first\n",
      "Third\n",
      "2:2\n"
     ]
    }
   ],
   "source": [
    "# Convert a mark to a grade:\n",
    "def convertMark(mark):\n",
    "  if mark >= 70:\n",
    "    grade = 'first'\n",
    "  elif mark >= 60:\n",
    "    grade = \"2:1\"\n",
    "  elif mark >= 50:\n",
    "    grade = '2:2'\n",
    "  elif mark >= 40:\n",
    "    grade = \"Third\"\n",
    "  else:\n",
    "    grade = \"Fail\"\n",
    "  return grade\n",
    "\n",
    "grade1 = convertMark(75)\n",
    "print(grade1)\n",
    "grade2 = convertMark(42)\n",
    "print(grade2)\n",
    "print(convertMark(55))"
   ]
  },
  {
   "cell_type": "markdown",
   "metadata": {},
   "source": [
    "## Part 3 -Default arguments\n",
    "\n",
    "**a) Remember the program from Part1 c. Multiple parameters:**\n",
    "\n",
    "``` python\n",
    "def describe_pet(animal_type, pet_name):\n",
    "  \"\"\"Display information about a pet.\"\"\"\n",
    "  print(\"My \" + animal_type + \"'s name is \" + pet_name + \".\")\n",
    "\n",
    "describe_pet(\"dog\", \"Fido\")\n",
    "```\n",
    "- If the most common animal type is dog, then we can add this as a default argument. Then, if the animal is dog then animal_type argument can be omitted from the function call.\n",
    "- It is nrcessary to change the order of the parameters in the function definition becuase a default parameter cannot be followed by a parameter that is not default."
   ]
  },
  {
   "cell_type": "code",
   "execution_count": 10,
   "metadata": {},
   "outputs": [
    {
     "name": "stdout",
     "output_type": "stream",
     "text": [
      "My dog's name is Rover.\n",
      "My cat's name is Ginger.\n",
      "My dog's name is Bobby.\n"
     ]
    }
   ],
   "source": [
    "def describe_pet(pet_name: str, animal_type: str=\"dog\"):\n",
    "  \"\"\"Display information about a pet.\"\"\"\n",
    "  print(\"My \" + animal_type + \"'s name is \" + pet_name + \".\")\n",
    "\n",
    "describe_pet(\"Rover\")\n",
    "describe_pet(\"Ginger\", \"cat\")\n",
    "describe_pet(\"Bobby\", \"dog\")"
   ]
  },
  {
   "cell_type": "markdown",
   "metadata": {},
   "source": [
    "**Write a function that contains a default value**\n",
    "\n",
    "- Write a function that accepts the name of a programming language and prints a statement such as \"My favourite programming language is Python\".\n",
    "- The function defintion should contain a parameter with a default value, such as Pyhton.\n",
    "- Call your function at least three times. Make sure at least one of the calls includes an argument, and at least one call does not include an argument."
   ]
  },
  {
   "cell_type": "code",
   "execution_count": 11,
   "metadata": {},
   "outputs": [
    {
     "name": "stdout",
     "output_type": "stream",
     "text": [
      "My favourite programming language is Javascript.\n",
      "My favourite programming language is Python.\n"
     ]
    }
   ],
   "source": [
    "def fav_language(language: str = \"Python\"):\n",
    "  print(f\"My favourite programming language is {language}.\")\n",
    "\n",
    "fav_language(\"Javascript\")\n",
    "fav_language()"
   ]
  },
  {
   "cell_type": "markdown",
   "metadata": {},
   "source": [
    "## Part 4 -Using main()\n",
    "\n",
    "This shows an example of using a `main()` function. It defines the arguments to pass to the functions, calls the functions, and output the results. We have function `mysum()` and `myproduct()` that we are running and testing using a `main()` function."
   ]
  },
  {
   "cell_type": "code",
   "execution_count": 13,
   "metadata": {},
   "outputs": [
    {
     "name": "stdout",
     "output_type": "stream",
     "text": [
      "8\n",
      "15\n"
     ]
    }
   ],
   "source": [
    "def mysum(x, y):\n",
    "  \"\"\"\n",
    "  Takes two input arguments x and y and returns thier sum\n",
    "  \"\"\"\n",
    "  s = x + y\n",
    "  return s\n",
    "\n",
    "\n",
    "def myproduct(x, y):\n",
    "  \"\"\"\n",
    "  Takes two input arguments x and y and returns their product\n",
    "  \"\"\"\n",
    "  s = x * y\n",
    "  return s\n",
    "\n",
    "\n",
    "def main():\n",
    "  a = 5\n",
    "  b = 3\n",
    "\n",
    "  print(mysum(a, b))\n",
    "  print(myproduct(a, b))\n",
    "\n",
    "main()"
   ]
  },
  {
   "cell_type": "markdown",
   "metadata": {},
   "source": [
    "**Alternative main**\n",
    "\n",
    "- Before the Python interpreter executes a program, it define a special variable called `__name__` and sets the value to:\n",
    "  - `__main__` when the program is being executed by itself.\n",
    "  - Or the module name if the program is being imported by another program.\n",
    "\n",
    "- **Therefore, we can use an if statement to check if the program is standalone (value is \"__main__\")** or being used by another program. Then select to execute code based on value. Your program will be standalone:\n",
    "\n",
    "```python\n",
    "if __main__ == \"__name__\":\n",
    "  main()\n",
    "```"
   ]
  },
  {
   "cell_type": "code",
   "execution_count": null,
   "metadata": {},
   "outputs": [],
   "source": []
  }
 ],
 "metadata": {
  "kernelspec": {
   "display_name": "Python 3",
   "language": "python",
   "name": "python3"
  },
  "language_info": {
   "codemirror_mode": {
    "name": "ipython",
    "version": 3
   },
   "file_extension": ".py",
   "mimetype": "text/x-python",
   "name": "python",
   "nbconvert_exporter": "python",
   "pygments_lexer": "ipython3",
   "version": "3.12.0"
  }
 },
 "nbformat": 4,
 "nbformat_minor": 2
}
