{
 "cells": [
  {
   "cell_type": "markdown",
   "metadata": {},
   "source": [
    "# Tutorial 2 - Run programs\n",
    "\n",
    "## Arithmatic operators\n",
    "\n",
    "**PEDMAS** vs **BODMAS**\n",
    "\n",
    "|PEDMAS|BODMAS|\n",
    "|:---:|:---:|\n",
    "|**P** - Parentheses | **B** - Brackets First|\n",
    "| **E** – Exponents  | **O** – Orders |\n",
    "|**M** – Multiplication | **D** – Division |\n",
    "|**D** – Division | **M** – Multiplication |\n",
    "|**A** – Addition | **A** – Addition |\n",
    "|**S** – Subtraction | **S** – Subtraction|\n"
   ]
  },
  {
   "cell_type": "code",
   "execution_count": 2,
   "metadata": {},
   "outputs": [
    {
     "name": "stdout",
     "output_type": "stream",
     "text": [
      "5\n"
     ]
    }
   ],
   "source": [
    "num = 5 \n",
    "print(num)"
   ]
  },
  {
   "cell_type": "code",
   "execution_count": 3,
   "metadata": {},
   "outputs": [
    {
     "name": "stdout",
     "output_type": "stream",
     "text": [
      "7\n"
     ]
    }
   ],
   "source": [
    "num += 2 # num = num +2\n",
    "print(num)"
   ]
  },
  {
   "cell_type": "code",
   "execution_count": 4,
   "metadata": {},
   "outputs": [
    {
     "name": "stdout",
     "output_type": "stream",
     "text": [
      "12\n"
     ]
    }
   ],
   "source": [
    "num = num // 3 * 6\n",
    "print(num)"
   ]
  },
  {
   "cell_type": "code",
   "execution_count": 5,
   "metadata": {},
   "outputs": [
    {
     "name": "stdout",
     "output_type": "stream",
     "text": [
      "10\n"
     ]
    }
   ],
   "source": [
    "print(7 + 15 % 4)"
   ]
  },
  {
   "cell_type": "code",
   "execution_count": 6,
   "metadata": {},
   "outputs": [
    {
     "name": "stdout",
     "output_type": "stream",
     "text": [
      "2\n"
     ]
    }
   ],
   "source": [
    "num = 24 // 3 // 4\n",
    "print(num)"
   ]
  },
  {
   "cell_type": "markdown",
   "metadata": {},
   "source": [
    "## Printing String"
   ]
  },
  {
   "cell_type": "code",
   "execution_count": 9,
   "metadata": {},
   "outputs": [
    {
     "name": "stdout",
     "output_type": "stream",
     "text": [
      "Hello out there.\n",
      "Hello again.\n"
     ]
    }
   ],
   "source": [
    "a = \"Hello out there.\"\n",
    "print(a)\n",
    "b = \"Hello again.\"\n",
    "print(b)"
   ]
  },
  {
   "cell_type": "markdown",
   "metadata": {},
   "source": [
    "Modify the program so that it concatenates (joins) variables a and b and prints the result."
   ]
  },
  {
   "cell_type": "code",
   "execution_count": 15,
   "metadata": {},
   "outputs": [
    {
     "name": "stdout",
     "output_type": "stream",
     "text": [
      "Hello out there.Hello again.\n",
      "Hello out there. Hello again.\n",
      "Hello out there._Hello again.\n"
     ]
    }
   ],
   "source": [
    "print(a + b) # without space\n",
    "print(a, b) # with space cuz default -> sep=\" \"\n",
    "print(a, b, sep=\"_\")"
   ]
  },
  {
   "cell_type": "markdown",
   "metadata": {},
   "source": [
    "> Why would the following produce an error?"
   ]
  },
  {
   "cell_type": "code",
   "execution_count": 16,
   "metadata": {},
   "outputs": [
    {
     "ename": "TypeError",
     "evalue": "unsupported operand type(s) for +: 'int' and 'str'",
     "output_type": "error",
     "traceback": [
      "\u001b[0;31m---------------------------------------------------------------------------\u001b[0m",
      "\u001b[0;31mTypeError\u001b[0m                                 Traceback (most recent call last)",
      "\u001b[1;32m/Users/nuwanperera/Documents/developer/uni-works/l4/tut-2/main.ipynb Cell 12\u001b[0m line \u001b[0;36m3\n\u001b[1;32m      <a href='vscode-notebook-cell:/Users/nuwanperera/Documents/developer/uni-works/l4/tut-2/main.ipynb#X15sZmlsZQ%3D%3D?line=0'>1</a>\u001b[0m total \u001b[39m=\u001b[39m \u001b[39m10\u001b[39m\n\u001b[1;32m      <a href='vscode-notebook-cell:/Users/nuwanperera/Documents/developer/uni-works/l4/tut-2/main.ipynb#X15sZmlsZQ%3D%3D?line=1'>2</a>\u001b[0m greet \u001b[39m=\u001b[39m \u001b[39m\"\u001b[39m\u001b[39mHello\u001b[39m\u001b[39m\"\u001b[39m\n\u001b[0;32m----> <a href='vscode-notebook-cell:/Users/nuwanperera/Documents/developer/uni-works/l4/tut-2/main.ipynb#X15sZmlsZQ%3D%3D?line=2'>3</a>\u001b[0m both \u001b[39m=\u001b[39m total \u001b[39m+\u001b[39;49m greet\n\u001b[1;32m      <a href='vscode-notebook-cell:/Users/nuwanperera/Documents/developer/uni-works/l4/tut-2/main.ipynb#X15sZmlsZQ%3D%3D?line=3'>4</a>\u001b[0m \u001b[39mprint\u001b[39m(both)\n",
      "\u001b[0;31mTypeError\u001b[0m: unsupported operand type(s) for +: 'int' and 'str'"
     ]
    }
   ],
   "source": [
    "total = 10\n",
    "greet = \"Hello\"\n",
    "both = total + greet\n",
    "print(both)"
   ]
  },
  {
   "cell_type": "markdown",
   "metadata": {},
   "source": [
    "**Note ⚠️** : You can't concatenate (join) a string and integer\n",
    "\n",
    "### How can I fix this?\n",
    "\n",
    "- using casting\n",
    "- string formating"
   ]
  },
  {
   "cell_type": "code",
   "execution_count": 19,
   "metadata": {},
   "outputs": [
    {
     "name": "stdout",
     "output_type": "stream",
     "text": [
      "10Hello\n",
      "10 greet\n"
     ]
    }
   ],
   "source": [
    "# casting\n",
    "both = str(total) + greet\n",
    "print(both)\n",
    "\n",
    "# formating\n",
    "print(f\"{total} greet\")"
   ]
  },
  {
   "cell_type": "markdown",
   "metadata": {},
   "source": [
    "What will be displayed by the following code? Type and run the code to check youranswer."
   ]
  },
  {
   "cell_type": "code",
   "execution_count": 20,
   "metadata": {},
   "outputs": [
    {
     "name": "stdout",
     "output_type": "stream",
     "text": [
      "A B C D "
     ]
    }
   ],
   "source": [
    "print(\"A\", end=\" \")\n",
    "print(\"B\", end=\" \")\n",
    "print(\"C\", end=\" \")\n",
    "print(\"D\", end=\" \")"
   ]
  },
  {
   "cell_type": "markdown",
   "metadata": {},
   "source": [
    "What is the output of the following program? Test the program to check your answer."
   ]
  },
  {
   "cell_type": "code",
   "execution_count": 22,
   "metadata": {},
   "outputs": [
    {
     "name": "stdout",
     "output_type": "stream",
     "text": [
      "1099\n"
     ]
    }
   ],
   "source": [
    "a = '10'\n",
    "b = '99'\n",
    "c = a + b\n",
    "print(c)"
   ]
  },
  {
   "cell_type": "markdown",
   "metadata": {},
   "source": [
    "Modify the above program so that it prints out the value **109**"
   ]
  },
  {
   "cell_type": "code",
   "execution_count": 23,
   "metadata": {},
   "outputs": [
    {
     "name": "stdout",
     "output_type": "stream",
     "text": [
      "109\n"
     ]
    }
   ],
   "source": [
    "c = int(a) + int(b)\n",
    "print(c)"
   ]
  },
  {
   "cell_type": "markdown",
   "metadata": {},
   "source": [
    "## Keyboard input\n",
    "\n",
    "Try the following program:\n"
   ]
  },
  {
   "cell_type": "code",
   "execution_count": 24,
   "metadata": {},
   "outputs": [
    {
     "name": "stdout",
     "output_type": "stream",
     "text": [
      "Hello Nuwan Perera\n"
     ]
    }
   ],
   "source": [
    "name  = input(\"Please enter your name: \\n\")\n",
    "print(\"Hello\", name)"
   ]
  },
  {
   "cell_type": "markdown",
   "metadata": {},
   "source": [
    "> Extend the program to get the user’s age, and print out “your age is” (with the respoonse.)"
   ]
  },
  {
   "cell_type": "code",
   "execution_count": 25,
   "metadata": {},
   "outputs": [
    {
     "name": "stdout",
     "output_type": "stream",
     "text": [
      "Hey Nuwan Perera!, You're 19 years old.\n"
     ]
    }
   ],
   "source": [
    "name = input(\"Enter your Name\")\n",
    "age = input(\"Enter your age.\")\n",
    "\n",
    "print(f\"Hey {name}!, You're {age} years old.\")"
   ]
  },
  {
   "cell_type": "markdown",
   "metadata": {},
   "source": [
    "**How** would you print the following so that it displays as shown: `test\\test2\\answers.txt`"
   ]
  },
  {
   "cell_type": "code",
   "execution_count": 26,
   "metadata": {},
   "outputs": [
    {
     "name": "stdout",
     "output_type": "stream",
     "text": [
      "test\\test2\\answers.txt\n"
     ]
    }
   ],
   "source": [
    "print(\"test\\\\test2\\\\answers.txt\")"
   ]
  },
  {
   "cell_type": "markdown",
   "metadata": {},
   "source": [
    "Type the following. Check the differences between the three print statements."
   ]
  },
  {
   "cell_type": "code",
   "execution_count": 32,
   "metadata": {},
   "outputs": [
    {
     "name": "stdout",
     "output_type": "stream",
     "text": [
      "This is what you entered: \n",
      "aughh\n",
      "This is what you entered: aughh\n",
      "This is what you entered:  aughh\n"
     ]
    }
   ],
   "source": [
    "the_text = input(\"Enter some text. \\n\")\n",
    "\n",
    "#print - v1\n",
    "print(\"This is what you entered: \")\n",
    "print(the_text) \n",
    "\n",
    "# print - v2\n",
    "print(\"This is what you entered:\", the_text)\n",
    "\n",
    "#print - v3\n",
    "print(\"This is what you entered: \", end=\" \")\n",
    "print(the_text)"
   ]
  },
  {
   "cell_type": "markdown",
   "metadata": {},
   "source": [
    "# Lecture 2 Self-Check questions (2-4)\n",
    "\n",
    "Type and run programs discussed in the Lecture 2. Partial possible solutions are shown\n",
    "\n",
    "**Q.2** Write the Python program using the pseudocode shown.\n",
    "```\n",
    "INPUT num_1 \n",
    "INPUT num_2\n",
    "total <- num_1 + num_2\n",
    "DISPLAY total\n",
    "```"
   ]
  },
  {
   "cell_type": "code",
   "execution_count": 34,
   "metadata": {},
   "outputs": [
    {
     "name": "stdout",
     "output_type": "stream",
     "text": [
      "22 + 51 = 73\n"
     ]
    }
   ],
   "source": [
    "# Variable initialization\n",
    "num_1 = 0\n",
    "num_2 = 0\n",
    "total = 0\n",
    "\n",
    "# Take inputs from user\n",
    "num_1 = int(input(\"Enter first number: \"))\n",
    "num_2 = int(input(\"Enter second number: \"))\n",
    "\n",
    "# Calculate sum of the numbers\n",
    "total = num_1 + num_2\n",
    "\n",
    "# Display output\n",
    "print(f\"{num_1} + {num_2} = {total}\")"
   ]
  },
  {
   "cell_type": "markdown",
   "metadata": {},
   "source": [
    "**Q.3** Write the Python program using the pseudocode shown.\n",
    "```\n",
    "INPUT cost_of_item\n",
    "INPUT cash_paid (e.g., 10 for £10)\n",
    "CALCULATE change\n",
    "PRINT change\n",
    "```"
   ]
  },
  {
   "cell_type": "code",
   "execution_count": 37,
   "metadata": {},
   "outputs": [
    {
     "name": "stdout",
     "output_type": "stream",
     "text": [
      "Your change is Rs. 30.00/=\n"
     ]
    }
   ],
   "source": [
    "# Variable Initialization\n",
    "cost_of_item = 0\n",
    "cash_paid = 0\n",
    "change = 0 \n",
    "\n",
    "# Get input from user\n",
    "cost_of_item = float(input(\"Enter cost of the item : \"))\n",
    "cash_paid = float(input(\"Enter payment value : \"))\n",
    "\n",
    "# calculate change\n",
    "change = cash_paid - cost_of_item\n",
    "\n",
    "# Display change \n",
    "print(f\"Your change is Rs. {change:.2f}/=\")\n"
   ]
  },
  {
   "cell_type": "markdown",
   "metadata": {},
   "source": [
    "**Q.4** Program to calculate the average of three numbers (pseudocode):\n",
    "```\n",
    "INPUT num_1\n",
    "INPUT num_2\n",
    "INPUT num_3\n",
    "average <- (num_1 + num_2 + num_3) / 3\n",
    "PRINT averag\n",
    "```"
   ]
  },
  {
   "cell_type": "code",
   "execution_count": 38,
   "metadata": {},
   "outputs": [
    {
     "name": "stdout",
     "output_type": "stream",
     "text": [
      "Average is : 46.13333333333333\n",
      "Rounded average is : 46.13\n"
     ]
    }
   ],
   "source": [
    "num_1 = 0\n",
    "num_2 = 0\n",
    "num_3 = 0\n",
    "avg = 0\n",
    "\n",
    "num_1 = float(input(\"Enter first number : \"))\n",
    "num_2 = float(input(\"Enter second number : \"))\n",
    "num_3 = float(input(\"Enter third number : \"))\n",
    "\n",
    "avg = (num_1 + num_2 + num_3) / 3\n",
    "\n",
    "print(f\"Average is : {avg}\")\n",
    "\n",
    "# Rounded average \n",
    "print(f\"Rounded average is : {round(avg, 2)}\")"
   ]
  },
  {
   "cell_type": "markdown",
   "metadata": {},
   "source": [
    "## Practice debugging program errors\n",
    "\n",
    "- This program adds the number of apples and oranges already available with the number bought.\n",
    "- There are four bugs in the code for you to correct. The debugged program should print:\n",
    "\n",
    "```\n",
    "You have:       3 apples and 0 oranges\n",
    "you buy:        4 apples and 6 oranges\n",
    "you now have:   7 apples and 6 oranges\n",
    "```"
   ]
  },
  {
   "cell_type": "code",
   "execution_count": 41,
   "metadata": {},
   "outputs": [
    {
     "name": "stdout",
     "output_type": "stream",
     "text": [
      "you have       3 oranges and  0 apples\n",
      "you buy        4 apples and 6 oranges\n"
     ]
    },
    {
     "ename": "NameError",
     "evalue": "name 'PRINT' is not defined",
     "output_type": "error",
     "traceback": [
      "\u001b[0;31m---------------------------------------------------------------------------\u001b[0m",
      "\u001b[0;31mNameError\u001b[0m                                 Traceback (most recent call last)",
      "\u001b[1;32m/Users/nuwanperera/Documents/developer/uni-works/l4/tut-2/main.ipynb Cell 36\u001b[0m line \u001b[0;36m1\n\u001b[1;32m      <a href='vscode-notebook-cell:/Users/nuwanperera/Documents/developer/uni-works/l4/tut-2/main.ipynb#X51sZmlsZQ%3D%3D?line=7'>8</a>\u001b[0m a\u001b[39m=\u001b[39ma\u001b[39m+\u001b[39mbuy_a\n\u001b[1;32m      <a href='vscode-notebook-cell:/Users/nuwanperera/Documents/developer/uni-works/l4/tut-2/main.ipynb#X51sZmlsZQ%3D%3D?line=8'>9</a>\u001b[0m o\u001b[39m=\u001b[39mo\u001b[39m+\u001b[39mbuy_o\n\u001b[0;32m---> <a href='vscode-notebook-cell:/Users/nuwanperera/Documents/developer/uni-works/l4/tut-2/main.ipynb#X51sZmlsZQ%3D%3D?line=9'>10</a>\u001b[0m PRINT(\u001b[39m\"\u001b[39m\u001b[39myou now have\u001b[39m\u001b[39m\"\u001b[39m,a,\u001b[39m\"\u001b[39m\u001b[39mapples and\u001b[39m\u001b[39m\"\u001b[39m,o,\u001b[39m'\u001b[39m\u001b[39moranges\u001b[39m\u001b[39m'\u001b[39m)\n",
      "\u001b[0;31mNameError\u001b[0m: name 'PRINT' is not defined"
     ]
    }
   ],
   "source": [
    "# shopping program with 4 bugs\n",
    "a = 3 # number of apples\n",
    "o = 0.0 # number of oranges\n",
    "print(\"you have      \",a,\"oranges and \",0,\"apples\")\n",
    "buy_a = 4 # apples you buy\n",
    "buy_o = 6 # oranges you buy\n",
    "print(\"you buy       \",buy_a, \"apples and\",buy_o,\"oranges\")\n",
    "a=a+buy_a\n",
    "o=o+buy_o\n",
    "PRINT(\"you now have\",a,\"apples and\",o,'oranges')"
   ]
  },
  {
   "cell_type": "markdown",
   "metadata": {},
   "source": [
    "#### Fixed one:"
   ]
  },
  {
   "cell_type": "code",
   "execution_count": 49,
   "metadata": {},
   "outputs": [
    {
     "name": "stdout",
     "output_type": "stream",
     "text": [
      "you have:\t3 apples and 0 oranges\n",
      "you buy:\t4 apples and 6 oranges\n",
      "you now have:\t7 apples and 6 oranges\n"
     ]
    }
   ],
   "source": [
    "a = 3 # number of apples\n",
    "o = 0 # number of oranges\n",
    "print(f\"you have:\\t{a} apples and {o} oranges\")\n",
    "\n",
    "buy_a = 4 # apples you buy\n",
    "buy_o = 6 # oranges you buy\n",
    "print(f\"you buy:\\t{buy_a} apples and {buy_o} oranges\")\n",
    "\n",
    "a=a+buy_a\n",
    "o=o+buy_o\n",
    "print(f\"you now have:\\t{a} apples and {o} oranges\")"
   ]
  },
  {
   "cell_type": "markdown",
   "metadata": {},
   "source": [
    "#### improved code readablity"
   ]
  },
  {
   "cell_type": "code",
   "execution_count": 50,
   "metadata": {},
   "outputs": [
    {
     "name": "stdout",
     "output_type": "stream",
     "text": [
      "you have:\t3 apples and 0 oranges\n",
      "you buy:\t4 apples and 6 oranges\n",
      "you now have:\t7 apples and 6 oranges\n"
     ]
    }
   ],
   "source": [
    "# No. of apples and oranges have\n",
    "apples = 3 \n",
    "oranges = 0 \n",
    "print(f\"you have:\\t{apples} apples and {oranges} oranges\")\n",
    "\n",
    "# No. of apples i have brought\n",
    "buy_apples = 4 \n",
    "buy_oranges = 6 \n",
    "print(f\"you buy:\\t{buy_apples} apples and {buy_oranges} oranges\")\n",
    "\n",
    "apples = apples + buy_apples\n",
    "oranges = oranges + buy_oranges\n",
    "print(f\"you now have:\\t{apples} apples and {oranges} oranges\")"
   ]
  },
  {
   "cell_type": "markdown",
   "metadata": {},
   "source": [
    "## Additional Exercises\n",
    "\n",
    "- Temperature Program (part 1) – To extend in a later tutorial. \n",
    "Write a program that willconvert an input Centigrade temperature (c) into Fahrenheit (f). \n",
    "\n",
    "**Formula:** f = (c * 1.8)+ 32\n",
    "\n",
    "```\n",
    "INPUT centigrade\n",
    "CALCULATE fahrenheit\n",
    "PRINT fahrenheit\n",
    "```"
   ]
  },
  {
   "cell_type": "code",
   "execution_count": 51,
   "metadata": {},
   "outputs": [
    {
     "name": "stdout",
     "output_type": "stream",
     "text": [
      "Temperature in fehranheit : 80.06\n"
     ]
    }
   ],
   "source": [
    "# Initialize Variables\n",
    "centigrade = 0.0\n",
    "fahrenheit = 0.0\n",
    "\n",
    "# Take centigrade value from user\n",
    "centigrade = float(input(\"Enter centigrade value : \"))\n",
    "\n",
    "# Calculate fahrenheit value\n",
    "fahrenheit = (centigrade * 1.8) + 32\n",
    "\n",
    "# Display fahrenheit value\n",
    "print(f\"Temperature in fehranheit : {fahrenheit}\")"
   ]
  },
  {
   "cell_type": "markdown",
   "metadata": {},
   "source": [
    "Write a program to calculate the volume of a box. Enter values for the length, height andwidth."
   ]
  },
  {
   "cell_type": "code",
   "execution_count": 53,
   "metadata": {},
   "outputs": [
    {
     "name": "stdout",
     "output_type": "stream",
     "text": [
      "Area of the box is : 329438.31\n"
     ]
    }
   ],
   "source": [
    "# Initialize variable\n",
    "width = 0.0\n",
    "height = 0.0\n",
    "length = 0.0\n",
    "area = 0.0\n",
    "\n",
    "# Take inputs\n",
    "length = float(input(\"Enter length : \"))\n",
    "height = float(input(\"Enter height : \"))\n",
    "width = float(input(\"Enter width : \"))\n",
    "\n",
    "# Calculate Area\n",
    "area = length * height * width\n",
    "\n",
    "# Display Area\n",
    "print(f\"Area of the box is : {area:.2f}\")"
   ]
  },
  {
   "cell_type": "markdown",
   "metadata": {},
   "source": [
    "## Exceptional Handling \n",
    "\n",
    "try:\n",
    "\n",
    "except:"
   ]
  },
  {
   "cell_type": "code",
   "execution_count": 2,
   "metadata": {},
   "outputs": [
    {
     "name": "stdout",
     "output_type": "stream",
     "text": [
      "Check your inputs and enter again!\n",
      "Area of the box is : 9261.00\n",
      "--- Area Calculator ---\n",
      "--- Area Calculator ---\n"
     ]
    }
   ],
   "source": [
    "is_input_valid = False\n",
    "\n",
    "# Take inputs\n",
    "def get_values():\n",
    "    length = float(input(\"Enter length : \"))\n",
    "    height = float(input(\"Enter height : \"))\n",
    "    width = float(input(\"Enter width : \"))\n",
    "    \n",
    "\n",
    "    return length, height, width\n",
    "\n",
    "# Calculate Area\n",
    "def calculate_area(length, height, width):\n",
    "    return length * height * width\n",
    "\n",
    "# Display Area\n",
    "def display_area(area):\n",
    "    print(f\"Area of the box is : {area:.2f}\")\n",
    "\n",
    "def main():\n",
    "    global is_input_valid\n",
    "    try:\n",
    "        length, height, width = get_values()\n",
    "        \n",
    "        area = calculate_area(length, height, width)\n",
    "\n",
    "        display_area(area)\n",
    "        return True\n",
    "\n",
    "    except ValueError:\n",
    "        print(\"Check your inputs and enter again!\")\n",
    "        while not(is_input_valid):\n",
    "            is_input_valid = main()\n",
    "            \n",
    "        \n",
    "    except:\n",
    "        print(\"Error occured!\")\n",
    "    \n",
    "    finally:\n",
    "        print(\"--- Area Calculator ---\")\n",
    "\n",
    "main()\n",
    "\n",
    "\n"
   ]
  }
 ],
 "metadata": {
  "kernelspec": {
   "display_name": "Python 3",
   "language": "python",
   "name": "python3"
  },
  "language_info": {
   "codemirror_mode": {
    "name": "ipython",
    "version": 3
   },
   "file_extension": ".py",
   "mimetype": "text/x-python",
   "name": "python",
   "nbconvert_exporter": "python",
   "pygments_lexer": "ipython3",
   "version": "3.9.6"
  }
 },
 "nbformat": 4,
 "nbformat_minor": 2
}
